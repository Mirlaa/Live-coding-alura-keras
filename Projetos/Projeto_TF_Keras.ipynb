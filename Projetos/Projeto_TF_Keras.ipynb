{
  "nbformat": 4,
  "nbformat_minor": 0,
  "metadata": {
    "colab": {
      "provenance": [],
      "toc_visible": true
    },
    "kernelspec": {
      "name": "python3",
      "display_name": "Python 3"
    },
    "language_info": {
      "name": "python"
    }
  },
  "cells": [
    {
      "cell_type": "markdown",
      "source": [
        "# Projeto TensorFlow Keras\n",
        "\n",
        "Contruindo uma MLP do zero"
      ],
      "metadata": {
        "id": "oLstQ-oLQZMt"
      }
    },
    {
      "cell_type": "markdown",
      "source": [
        "# Parte 1: Conceitos básicos para construir uma MLP"
      ],
      "metadata": {
        "id": "dFNmGGTE6GdI"
      }
    },
    {
      "cell_type": "markdown",
      "source": [
        "Acesse o conteúdo didático [nesse link](https://github.com/alura-cursos/Live-coding-alura-keras/blob/main/Primeiros%20passos%20-%20TF%20Keras%20-%20Apresenta%C3%A7%C3%A3o%20em%20slides.pdf)"
      ],
      "metadata": {
        "id": "F44v2EZrMgS2"
      }
    },
    {
      "cell_type": "markdown",
      "source": [
        "**Alguns conceitos importantes para lembrar antes de iniciar o código**\n",
        "\n",
        "* **Redes Neurais**: uma rede neural é composta por diversos neurônios interligados entre si, daí o nome \"rede neural\".\n",
        "\n",
        "* **Neurônio Artificial / Perceptron**: os neurônios são a unidade básica de uma rede neural e possuem a seguinte estrutura:\n",
        "   - **Entradas**: dados que alimentam o neurônio.\n",
        "   - **Peso**: importância atribuída a cada entrada em relação ao resultado final; pesos maiores indicam entradas mais relevantes para a saída.\n",
        "   - **Função de Ativação**: determina se o neurônio deve \"disparar\" e influencia diretamente o resultado final (saída).\n",
        "\n",
        "* **MLP (Multi-Layer Perceptron)**: uma rede neural com múltiplas camadas de neurônios, incluindo camadas ocultas, para processar dados complexos.\n",
        "\n",
        "* **Estrutura do MLP**:\n",
        "   - **Camada de Entrada**: onde os dados iniciais, com seus respectivos pesos, são enviados para a camada seguinte.\n",
        "   - **Camada Oculta**: composta por vários perceptrons e chamada assim porque não visualizamos diretamente o que ocorre nela. Sua função é extrair e combinar características complexas dos dados.\n",
        "   - **Camada de Saída**: formada por neurônios que realizam a decisão final da rede.\n",
        "\n",
        "* **Aprendizado Feedforward**: fluxo de dados que percorre da camada de entrada até a camada de saída sem retorno para camadas anteriores.\n",
        "\n",
        "* **Perda**: uma métrica que mede o quão ruim está o modelo em comparação ao resultado esperado; quanto mais próxima de zero, melhor o desempenho.\n",
        "\n",
        "* **Backpropagation**: método que ajusta os pesos das conexões para reduzir a perda, usando um algoritmo de otimização para melhorar a precisão da rede.\n",
        "\n",
        "* **Épocas**: número de vezes que o modelo vê e processa o conjunto de dados completo durante o treinamento, permitindo ajustes progressivos nos pesos."
      ],
      "metadata": {
        "id": "w4lj3y6g6ObS"
      }
    },
    {
      "cell_type": "markdown",
      "source": [
        "Links diretos para a documentação de cada uma das bibliotecas utilizadas no projeto:\n",
        "\n",
        "* [pandas](https://pandas.pydata.org/)\n",
        "* [scikit-learn](https://scikit-learn.org/stable/)\n",
        "* [tensorflow](https://www.tensorflow.org/)\n",
        "* [matplotlib](https://matplotlib.org/)\n",
        "* [seaborn](https://seaborn.pydata.org/)"
      ],
      "metadata": {
        "id": "LWQM9GYlSs-Z"
      }
    },
    {
      "cell_type": "markdown",
      "source": [
        "![](https://github.com/Mirlaa/Live-coding-alura-keras/blob/main/imagens/imagem3.png?raw=true)"
      ],
      "metadata": {
        "id": "7Qbm6zjyQMGd"
      }
    },
    {
      "cell_type": "markdown",
      "source": [
        "# Parte 2: Processando os dados"
      ],
      "metadata": {
        "id": "jTJ99b7T57p2"
      }
    },
    {
      "cell_type": "markdown",
      "source": [
        "Você pode manter os dados salvos em seu notebook com o código abaixo:\n",
        "```Python\n",
        "url = 'https://raw.githubusercontent.com/alura-cursos/Live-coding-alura-keras/refs/heads/main/novas_notas.csv'\n",
        "url_novos = 'https://raw.githubusercontent.com/alura-cursos/Live-coding-alura-keras/refs/heads/main/novas_notas.csv'\n",
        "```"
      ],
      "metadata": {
        "id": "Xz5pvxBg6QRC"
      }
    },
    {
      "cell_type": "code",
      "execution_count": null,
      "metadata": {
        "id": "AqtbLElQddGG"
      },
      "outputs": [],
      "source": [
        "url = 'https://raw.githubusercontent.com/alura-cursos/Live-coding-alura-keras/refs/heads/main/autenticacao_notas.csv'"
      ]
    },
    {
      "cell_type": "markdown",
      "source": [
        "Esse conjunto de dados representa informações extraídas de imagens de **notas fiscais**, com o objetivo de distinguir entre notas **AUTÊNTICAS** e **FALSAS**. As colunas contêm características numéricas extraídas das imagens essas características permitem analisar as texturas e variações das imagens.\n",
        "\n",
        "Esssas características foram extraídas usando a [Transformada Wavelet](https://semanaacademica.org.br/system/files/artigos/transformada_wavelets.pdf). Essa técnica permite analisar as texturas e variações das imagens.\n",
        "\n",
        "* **Colunas**:\n",
        "\n",
        "1. **Variância**: representa a variabilidade dos valores da imagem após a transformação Wavelet.\n",
        "2. **Assimetria**: mede a assimetria dos valores na imagem transformada.\n",
        "3. **Curtose**: mede o grau de \"pico\" ou \"achatamento\" da distribuição dos valores da imagem.\n",
        "4. **Entropia**: mede o grau de desordem ou complexidade da imagem.\n",
        "5. **Classe**: é a *variável alvo* e indica se a nota é autêntica ou falsa. É representada como um valor inteiro, onde geralmente `0` representa uma nota falsa e `1` uma nota autêntica.\n"
      ],
      "metadata": {
        "id": "hsvEQm18Oj9y"
      }
    },
    {
      "cell_type": "code",
      "source": [],
      "metadata": {
        "id": "J-vHc6-ObGS3"
      },
      "execution_count": null,
      "outputs": []
    },
    {
      "cell_type": "code",
      "source": [],
      "metadata": {
        "id": "02OXB8e1bHEf"
      },
      "execution_count": null,
      "outputs": []
    },
    {
      "cell_type": "markdown",
      "source": [
        "A separação do conjunto de dados em treino e teste permite que se avalie o desempenho do modelo para dados novos. Fazemos ela com a função [`train_test_split`](https://scikit-learn.org/dev/modules/generated/sklearn.model_selection.train_test_split.html).\n",
        "\n",
        "Além disso, a técnica também permite verificar a capacidade de generalização do modelo e evita o problema de **overfitting**, onde o modelo se adapta aos dados de treino e tem baixa performance com dados não vistos, como se estivesse \"*decorado*\" o conjunto de treino."
      ],
      "metadata": {
        "id": "qzljVZ5SRHR1"
      }
    },
    {
      "cell_type": "code",
      "source": [],
      "metadata": {
        "id": "Qteh7pCwbIGY"
      },
      "execution_count": null,
      "outputs": []
    },
    {
      "cell_type": "code",
      "source": [],
      "metadata": {
        "id": "FoSfivxEbH_H"
      },
      "execution_count": null,
      "outputs": []
    },
    {
      "cell_type": "code",
      "source": [],
      "metadata": {
        "id": "5uJ8AtdhbH28"
      },
      "execution_count": null,
      "outputs": []
    },
    {
      "cell_type": "markdown",
      "source": [
        "Aplicar o [`StandardScaler`](https://scikit-learn.org/dev/modules/generated/sklearn.preprocessing.StandardScaler.html) após a separação dos dados evita o vazamento de dados, pois usa apenas as estatísticas dos dados de treino para escalonar tanto treino quanto teste. Isso mantém o conjunto de teste independente e permite uma avaliação mais precisa da capacidade de generalização do modelo."
      ],
      "metadata": {
        "id": "-WOo5cllSBpT"
      }
    },
    {
      "cell_type": "code",
      "source": [],
      "metadata": {
        "id": "nEZJxOVcbKra"
      },
      "execution_count": null,
      "outputs": []
    },
    {
      "cell_type": "code",
      "source": [],
      "metadata": {
        "id": "udl27YVcbKlh"
      },
      "execution_count": null,
      "outputs": []
    },
    {
      "cell_type": "code",
      "source": [],
      "metadata": {
        "id": "yHYNY1bKbKe9"
      },
      "execution_count": null,
      "outputs": []
    },
    {
      "cell_type": "code",
      "source": [],
      "metadata": {
        "id": "qHLgYU9VbKY_"
      },
      "execution_count": null,
      "outputs": []
    },
    {
      "cell_type": "markdown",
      "source": [
        "Não conseguimos encontrar uma solução para predição de notas ficais autênticas com um simples Percepton, devemos usar uma MLP."
      ],
      "metadata": {
        "id": "Z1YYvSpPSJnR"
      }
    },
    {
      "cell_type": "markdown",
      "source": [
        "![](https://github.com/Mirlaa/Live-coding-alura-keras/blob/main/imagens/imagem2.png?raw=true)"
      ],
      "metadata": {
        "id": "f-vdUtL-Q20Q"
      }
    },
    {
      "cell_type": "markdown",
      "source": [
        "# Parte 3: Construindo a MLP"
      ],
      "metadata": {
        "id": "nHI22MKp5vIs"
      }
    },
    {
      "cell_type": "markdown",
      "source": [
        "[**TensorFlow (tf)**](https://www.tensorflow.org/?hl=pt-br) é uma biblioteca de código aberto para machine learning que facilita a construção, o treinamento e a implantação de redes neurais, com foco em deep learning."
      ],
      "metadata": {
        "id": "L0tcJB0NXKtR"
      }
    },
    {
      "cell_type": "code",
      "source": [],
      "metadata": {
        "id": "poLuaB91a9YE"
      },
      "execution_count": null,
      "outputs": []
    },
    {
      "cell_type": "markdown",
      "source": [
        "\n",
        "- [**`tf.keras.Sequential`**](https://www.tensorflow.org/api_docs/python/tf/keras/Sequential): cria um modelo de rede neural linear, onde as camadas são adicionadas sequencialmente.\n",
        "- [**`tf.keras.layers.Input`**](https://www.tensorflow.org/api_docs/python/tf/keras/Input): define a entrada da rede, especificando a forma dos dados que serão processados pelo modelo.\n",
        "- [**`tf.keras.layers.Dense`**](https://www.tensorflow.org/api_docs/python/tf/keras/layers/Dense): adiciona uma camada densa totalmente conectada, onde cada neurônio é conectado a todos os neurônios da camada anterior."
      ],
      "metadata": {
        "id": "wyxfuR2XX4ri"
      }
    },
    {
      "cell_type": "code",
      "source": [],
      "metadata": {
        "id": "W7grZRsba8n7"
      },
      "execution_count": null,
      "outputs": []
    },
    {
      "cell_type": "markdown",
      "source": [
        "- [**`compile`**](https://www.tensorflow.org/api_docs/python/tf/keras/Model#compile): configura o modelo para treinamento, especificando a função de perda, o otimizador e as métricas a serem usadas para avaliar o desempenho durante o aprendizado."
      ],
      "metadata": {
        "id": "qArxxvQ9YGv7"
      }
    },
    {
      "cell_type": "code",
      "source": [],
      "metadata": {
        "id": "zWlcLTMja7zZ"
      },
      "execution_count": null,
      "outputs": []
    },
    {
      "cell_type": "markdown",
      "source": [
        "\n",
        "- [**`fit`**](https://www.tensorflow.org/api_docs/python/tf/keras/Model#fit): treina o modelo nos dados fornecidos, ajustando os pesos das camadas para minimizar a perda, de acordo com o número de épocas e o tamanho do lote definidos.\n",
        "\n",
        "Durante o treinamento, o Keras pode medir a perda e as métricas de um conjunto não observado pelo modelo em cada época, ajudando a verificar se o modelo está generalizando bem e quando deve parar de treinar. O conjunto de validação atua esse conjunto não observado de dados, auxiliando na avaliação do modelo."
      ],
      "metadata": {
        "id": "pmq59h1zYoG8"
      }
    },
    {
      "cell_type": "code",
      "source": [],
      "metadata": {
        "id": "BeLEkjaua60K"
      },
      "execution_count": null,
      "outputs": []
    },
    {
      "cell_type": "markdown",
      "source": [
        "Valores de acurácia e perda para treino e validação são bem similares o que pode indicar uma MLP que não apresenta overfitting, ou seja, que não domente decorou os dados de treino e conseguiu generalizar sua saída."
      ],
      "metadata": {
        "id": "gNEpdaEJYqgO"
      }
    },
    {
      "cell_type": "markdown",
      "source": [
        "![](https://github.com/Mirlaa/Live-coding-alura-keras/blob/main/imagens/imagem1.png?raw=true)"
      ],
      "metadata": {
        "id": "KbNEOLSSQ7aI"
      }
    },
    {
      "cell_type": "markdown",
      "source": [
        "# Parte 4: Avaliando a MLP"
      ],
      "metadata": {
        "id": "ycpHG4s351zy"
      }
    },
    {
      "cell_type": "markdown",
      "source": [
        "É possível avaliar o desempenho da nossa MLP verificando como ela se sai ao gerar predições para o conjunto de teste.\n",
        "\n",
        "- [**`evaluate`**](https://www.tensorflow.org/api_docs/python/tf/keras/Model#evaluate): calcula a perda e as métricas do modelo em um conjunto de dados específico (normalmente, o conjunto de teste) para verificar o desempenho final após o treinamento."
      ],
      "metadata": {
        "id": "j9mPTuoEZ29A"
      }
    },
    {
      "cell_type": "code",
      "source": [],
      "metadata": {
        "id": "1fxDwqUralAe"
      },
      "execution_count": null,
      "outputs": []
    },
    {
      "cell_type": "markdown",
      "source": [
        "Também podemos observar a evolução do aprendizado da MLP conforme se passam as épocas\n",
        "\n",
        "- **`history.history`**: retorna um dicionário com os valores das métricas e da perda ao longo das épocas de treinamento (e validação, se usada), permitindo visualizar o progresso e identificar possíveis overfitting ou underfitting."
      ],
      "metadata": {
        "id": "mX9-pyZvaG2H"
      }
    },
    {
      "cell_type": "code",
      "source": [],
      "metadata": {
        "id": "FgiylO1tal5m"
      },
      "execution_count": null,
      "outputs": []
    },
    {
      "cell_type": "markdown",
      "source": [
        "É possível coletar novos dados e verificar a saída do modelo para esses novos dados"
      ],
      "metadata": {
        "id": "5z4WTiJTakYb"
      }
    },
    {
      "cell_type": "code",
      "source": [
        "url_novos='https://raw.githubusercontent.com/alura-cursos/Live-coding-alura-keras/refs/heads/main/novas_notas.csv'"
      ],
      "metadata": {
        "id": "BrrgWeO9vqC8"
      },
      "execution_count": null,
      "outputs": []
    },
    {
      "cell_type": "code",
      "source": [],
      "metadata": {
        "id": "QZi5T8URam3Y"
      },
      "execution_count": null,
      "outputs": []
    },
    {
      "cell_type": "code",
      "source": [],
      "metadata": {
        "id": "8Tgb2JLIapE6"
      },
      "execution_count": null,
      "outputs": []
    },
    {
      "cell_type": "markdown",
      "source": [
        "* [**`predict`**](https://www.tensorflow.org/api_docs/python/tf/keras/Model#predict): gera previsões para novos dados usando o modelo treinado. Ele processa as entradas e retorna a saída do modelo, que pode ser probabilidades, classes ou valores contínuos, dependendo da tarefa (classificação ou regressão) e da configuração da camada de saída."
      ],
      "metadata": {
        "id": "v4Zdan12ei4Q"
      }
    },
    {
      "cell_type": "code",
      "source": [],
      "metadata": {
        "id": "CvuihzH5auyZ"
      },
      "execution_count": null,
      "outputs": []
    },
    {
      "cell_type": "code",
      "source": [],
      "metadata": {
        "id": "oVJ-o7vZausK"
      },
      "execution_count": null,
      "outputs": []
    },
    {
      "cell_type": "code",
      "source": [],
      "metadata": {
        "id": "cxXYp4Zoaul-"
      },
      "execution_count": null,
      "outputs": []
    },
    {
      "cell_type": "markdown",
      "source": [
        "# Conteúdos extras\n"
      ],
      "metadata": {
        "id": "U2L8lLt8S1b1"
      }
    },
    {
      "cell_type": "markdown",
      "source": [
        "* **Formação [Deep Learning com Tensorflow Keras](https://cursos.alura.com.br/formacao-deep-learning-tensorflow-keras)**\n",
        "\n",
        "  Explore os fundamentos do Deep Learning, bem como técnicas e bibliotecas avançadas, para resolver problemas complexos de aprendizado de máquina e inteligência artificial.\n",
        "  - **Curso: [Keras: primeiros passos em redes neurais](https://cursos.alura.com.br/course/keras-primeiros-passos-redes-neurais)**\n",
        "    \n",
        "    Entenda o que é, como funciona e como aprende uma rede neural simples e multicamada, desenvolvendo um modelo MLP com a API Keras.\n",
        "  - **Curso: [TensorFlow Keras: classificando imagens com redes convolucionais](https://cursos.alura.com.br/course/tensorflow-keras-classificando-imagens-redes-convolucionais)**\n",
        "    \n",
        "    Domine a classificação de imagens com TensorFlow Keras! Aprenda a construir redes convolucionais em um curso prático sobre folhas de videiras.\n",
        "  - **Curso: [TensorFlow Keras: classificando e sugerindo palavras](https://cursos.alura.com.br/course/tensorflow-keras-classificando-sugerindo-palavras)**\n",
        "    \n",
        "    Aprenda a usar TensorFlow Keras para completar textos com redes LSTM. Este curso ensina técnicas avançadas de processamento de linguagem natural e como aplicar redes neurais para prever a próxima palavra em uma sequência de texto.\n",
        "  - **Curso: [TensorFlow Keras: Decodificando Áudio com IA](https://cursos.alura.com.br/course/tensorflow-keras-decodificando-audio-ia)**\n",
        "    \n",
        "    Aprenda a criar, treinar e implementar modelos de reconhecimento de áudio com TensorFlow neste curso prático. Explore técnicas avançadas, utilize modelos pré-treinados como Yamnet e domine a transferência de aprendizado.\n",
        "  - **Curso: [TensorFlow/Keras: gerando imagens com Deep Learning](https://cursos.alura.com.br/course/tensorflow-keras-gerando-imagens-deep-learning)**\n",
        "    \n",
        "    Aprenda a gerar imagens com Deep Learning! Curso prático de GANs, difusores e Stable Diffusion com TensorFlow/Keras.\n",
        "* **Curso [TensorFlow: implementando um perceptron de múltiplas camadas (MLP)](https://cursos.alura.com.br/course/tensorflow-implementando-perceptron-multiplas-camadas)**\n",
        "  Explore os princípios fundamentais das redes neurais com TensorFlow: perceptrons, gradiente descendente, camadas ocultas e funções de ativação."
      ],
      "metadata": {
        "id": "Fr7NneY5S6g5"
      }
    },
    {
      "cell_type": "markdown",
      "source": [
        "> O projeto que você construiu é **seu**! Então fique a vontade para compartilhar o seu projeto no GitHub, botar no seu portfólio, divulgar no LinkedIn e nos marcar na postagem.\n",
        ">\n",
        "> Bons estudos!\n",
        "\n",
        "--Mirla Costa"
      ],
      "metadata": {
        "id": "LNif2QJ6U7St"
      }
    }
  ]
}